{
 "cells": [
  {
   "cell_type": "code",
   "execution_count": 2,
   "id": "007f77b2",
   "metadata": {},
   "outputs": [],
   "source": [
    "import pyspark\n",
    "import os\n",
    "import sys\n",
    "import pandas as pd\n",
    "from pyspark.sql import SparkSession\n",
    "\n",
    "\n",
    "os.environ['PYSPARK_PYTHON'] = sys.executable\n",
    "os.environ['PYSPARK_DRIVER_PYTHON'] = sys.executable"
   ]
  },
  {
   "cell_type": "code",
   "execution_count": 3,
   "id": "4742a38f",
   "metadata": {},
   "outputs": [],
   "source": [
    "spark = SparkSession.builder \\\n",
    "    .master(\"local[*]\") \\\n",
    "    .appName('test') \\\n",
    "    .getOrCreate()"
   ]
  },
  {
   "cell_type": "code",
   "execution_count": 5,
   "id": "d4e0bb84",
   "metadata": {},
   "outputs": [],
   "source": [
    "df_green = spark.read.parquet('../data/pq/green/*/*')"
   ]
  },
  {
   "cell_type": "code",
   "execution_count": 8,
   "id": "e0b26e8c",
   "metadata": {},
   "outputs": [],
   "source": [
    "df_yellow = spark.read.parquet('../data/pq/yellow/*/*')"
   ]
  },
  {
   "cell_type": "markdown",
   "id": "a7f3c5c2",
   "metadata": {},
   "source": [
    "### There seems to be different number of columns in both dataframes. For example column \"ehail_fee\" only exists in the green taxi datasets."
   ]
  },
  {
   "cell_type": "code",
   "execution_count": 10,
   "id": "3c89df8d",
   "metadata": {},
   "outputs": [
    {
     "data": {
      "text/plain": [
       "{'DOLocationID',\n",
       " 'PULocationID',\n",
       " 'RatecodeID',\n",
       " 'VendorID',\n",
       " 'congestion_surcharge',\n",
       " 'extra',\n",
       " 'fare_amount',\n",
       " 'improvement_surcharge',\n",
       " 'mta_tax',\n",
       " 'passenger_count',\n",
       " 'payment_type',\n",
       " 'store_and_fwd_flag',\n",
       " 'tip_amount',\n",
       " 'tolls_amount',\n",
       " 'total_amount',\n",
       " 'trip_distance'}"
      ]
     },
     "execution_count": 10,
     "metadata": {},
     "output_type": "execute_result"
    }
   ],
   "source": [
    "## This is a way to set both dataset so we can have cloumns present in both dataset\n",
    "\n",
    "set(df_green.columns) & set(df_yellow.columns)"
   ]
  },
  {
   "cell_type": "code",
   "execution_count": 11,
   "id": "3bb6ba7d",
   "metadata": {},
   "outputs": [],
   "source": [
    "#observation shows that pickup date and drop off date are different \n",
    "#for both datasets so we need to rename them for conformity in both datasets\n",
    "\n",
    "df_green = df_green \\\n",
    "    .withColumnRenamed('lpep_pickup_datetime', 'pickup_datetime') \\\n",
    "    .withColumnRenamed('lpep_dropoff_datetime', 'dropoff_datetime')"
   ]
  },
  {
   "cell_type": "code",
   "execution_count": 12,
   "id": "19baac62",
   "metadata": {},
   "outputs": [],
   "source": [
    "df_yellow = df_yellow \\\n",
    "    .withColumnRenamed('tpep_pickup_datetime', 'pickup_datetime') \\\n",
    "    .withColumnRenamed('tpep_dropoff_datetime', 'dropoff_datetime')"
   ]
  },
  {
   "cell_type": "code",
   "execution_count": 13,
   "id": "314ec37e",
   "metadata": {},
   "outputs": [
    {
     "data": {
      "text/plain": [
       "{'DOLocationID',\n",
       " 'PULocationID',\n",
       " 'RatecodeID',\n",
       " 'VendorID',\n",
       " 'congestion_surcharge',\n",
       " 'dropoff_datetime',\n",
       " 'extra',\n",
       " 'fare_amount',\n",
       " 'improvement_surcharge',\n",
       " 'mta_tax',\n",
       " 'passenger_count',\n",
       " 'payment_type',\n",
       " 'pickup_datetime',\n",
       " 'store_and_fwd_flag',\n",
       " 'tip_amount',\n",
       " 'tolls_amount',\n",
       " 'total_amount',\n",
       " 'trip_distance'}"
      ]
     },
     "execution_count": 13,
     "metadata": {},
     "output_type": "execute_result"
    }
   ],
   "source": [
    "set(df_green.columns) & set(df_yellow.columns)"
   ]
  },
  {
   "cell_type": "code",
   "execution_count": 14,
   "id": "1b4f6eee",
   "metadata": {},
   "outputs": [],
   "source": [
    "common_colums = []\n",
    "\n",
    "yellow_columns = set(df_yellow.columns)\n",
    "\n",
    "for col in df_green.columns:\n",
    "    if col in yellow_columns:\n",
    "        common_colums.append(col)"
   ]
  },
  {
   "cell_type": "code",
   "execution_count": 15,
   "id": "a969a582",
   "metadata": {},
   "outputs": [
    {
     "data": {
      "text/plain": [
       "['VendorID',\n",
       " 'pickup_datetime',\n",
       " 'dropoff_datetime',\n",
       " 'store_and_fwd_flag',\n",
       " 'RatecodeID',\n",
       " 'PULocationID',\n",
       " 'DOLocationID',\n",
       " 'passenger_count',\n",
       " 'trip_distance',\n",
       " 'fare_amount',\n",
       " 'extra',\n",
       " 'mta_tax',\n",
       " 'tip_amount',\n",
       " 'tolls_amount',\n",
       " 'improvement_surcharge',\n",
       " 'total_amount',\n",
       " 'payment_type',\n",
       " 'congestion_surcharge']"
      ]
     },
     "execution_count": 15,
     "metadata": {},
     "output_type": "execute_result"
    }
   ],
   "source": [
    "common_colums"
   ]
  },
  {
   "cell_type": "markdown",
   "id": "17273fac",
   "metadata": {},
   "source": [
    "## before combining both datasets, we need to declare a column in both \n",
    "## datasets called 'service type' in order to make sure we can trace the data"
   ]
  },
  {
   "cell_type": "code",
   "execution_count": 16,
   "id": "9833ebaa",
   "metadata": {},
   "outputs": [],
   "source": [
    "from pyspark.sql import functions as F"
   ]
  },
  {
   "cell_type": "code",
   "execution_count": 17,
   "id": "ec68603a",
   "metadata": {},
   "outputs": [],
   "source": [
    "df_green_sel = df_green \\\n",
    "    .select(common_colums) \\\n",
    "    .withColumn('service_type', F.lit('green'))"
   ]
  },
  {
   "cell_type": "code",
   "execution_count": 18,
   "id": "151b5abb",
   "metadata": {},
   "outputs": [],
   "source": [
    "df_yellow_sel = df_yellow \\\n",
    "    .select(common_colums) \\\n",
    "    .withColumn('service_type', F.lit('yellow'))"
   ]
  },
  {
   "cell_type": "code",
   "execution_count": 19,
   "id": "cacbdc71",
   "metadata": {},
   "outputs": [],
   "source": [
    "## combinning both datasets into one\n",
    "df_trips_data = df_green_sel.unionAll(df_yellow_sel)"
   ]
  },
  {
   "cell_type": "code",
   "execution_count": 20,
   "id": "b2a803e7",
   "metadata": {
    "scrolled": true
   },
   "outputs": [
    {
     "name": "stdout",
     "output_type": "stream",
     "text": [
      "+------------+--------+\n",
      "|service_type|   count|\n",
      "+------------+--------+\n",
      "|       green| 2304517|\n",
      "|      yellow|39649199|\n",
      "+------------+--------+\n",
      "\n"
     ]
    }
   ],
   "source": [
    "df_trips_data.groupBy('service_type').count().show()"
   ]
  },
  {
   "cell_type": "code",
   "execution_count": 21,
   "id": "21d7aae3",
   "metadata": {},
   "outputs": [
    {
     "name": "stderr",
     "output_type": "stream",
     "text": [
      "C:\\spark\\spark-3.3.2-bin-hadoop2\\python\\pyspark\\sql\\dataframe.py:229: FutureWarning: Deprecated in 2.0, use createOrReplaceTempView instead.\n",
      "  warnings.warn(\"Deprecated in 2.0, use createOrReplaceTempView instead.\", FutureWarning)\n"
     ]
    }
   ],
   "source": [
    "#this is done inorder for us to access the spark df via SQL\n",
    "df_trips_data.registerTempTable('trips_data')"
   ]
  },
  {
   "cell_type": "code",
   "execution_count": 22,
   "id": "59e6f0fe",
   "metadata": {},
   "outputs": [
    {
     "name": "stdout",
     "output_type": "stream",
     "text": [
      "+------------+--------+\n",
      "|service_type|count(1)|\n",
      "+------------+--------+\n",
      "|       green| 2304517|\n",
      "|      yellow|39649199|\n",
      "+------------+--------+\n",
      "\n"
     ]
    }
   ],
   "source": [
    "#now we use SQL to interact with out dataset\n",
    "spark.sql(\"\"\"\n",
    "SELECT\n",
    "    service_type,\n",
    "    count(1)\n",
    "FROM\n",
    "    trips_data\n",
    "GROUP BY \n",
    "    service_type\n",
    "\"\"\").show()"
   ]
  },
  {
   "cell_type": "code",
   "execution_count": 23,
   "id": "85ac71a1",
   "metadata": {},
   "outputs": [],
   "source": [
    "df_result = spark.sql(\"\"\"\n",
    "SELECT \n",
    "    -- Reveneue grouping \n",
    "    PULocationID AS revenue_zone,\n",
    "    date_trunc('month', pickup_datetime) AS revenue_month, \n",
    "    service_type, \n",
    "\n",
    "    -- Revenue calculation \n",
    "    SUM(fare_amount) AS revenue_monthly_fare,\n",
    "    SUM(extra) AS revenue_monthly_extra,\n",
    "    SUM(mta_tax) AS revenue_monthly_mta_tax,\n",
    "    SUM(tip_amount) AS revenue_monthly_tip_amount,\n",
    "    SUM(tolls_amount) AS revenue_monthly_tolls_amount,\n",
    "    SUM(improvement_surcharge) AS revenue_monthly_improvement_surcharge,\n",
    "    SUM(total_amount) AS revenue_monthly_total_amount,\n",
    "    SUM(congestion_surcharge) AS revenue_monthly_congestion_surcharge,\n",
    "\n",
    "    -- Additional calculations\n",
    "    AVG(passenger_count) AS avg_montly_passenger_count,\n",
    "    AVG(trip_distance) AS avg_montly_trip_distance\n",
    "FROM\n",
    "    trips_data\n",
    "GROUP BY\n",
    "    1, 2, 3\n",
    "\"\"\")"
   ]
  },
  {
   "cell_type": "code",
   "execution_count": 24,
   "id": "ce0d07f4",
   "metadata": {},
   "outputs": [
    {
     "name": "stdout",
     "output_type": "stream",
     "text": [
      "+------------+-------------------+------------+--------------------+---------------------+-----------------------+--------------------------+----------------------------+-------------------------------------+----------------------------+------------------------------------+--------------------------+------------------------+\n",
      "|revenue_zone|      revenue_month|service_type|revenue_monthly_fare|revenue_monthly_extra|revenue_monthly_mta_tax|revenue_monthly_tip_amount|revenue_monthly_tolls_amount|revenue_monthly_improvement_surcharge|revenue_monthly_total_amount|revenue_monthly_congestion_surcharge|avg_montly_passenger_count|avg_montly_trip_distance|\n",
      "+------------+-------------------+------------+--------------------+---------------------+-----------------------+--------------------------+----------------------------+-------------------------------------+----------------------------+------------------------------------+--------------------------+------------------------+\n",
      "|          20|2020-01-01 00:00:00|       green|  11375.420000000002|                681.0|                  131.0|         90.62000000000002|          479.86000000000024|                   147.29999999999987|          12923.199999999975|                                11.0|        1.2297872340425533|       4.872311926605501|\n",
      "|         262|2020-01-01 00:00:00|       green|             1692.21|               104.75|                   11.5|                     32.34|          122.66000000000001|                    18.00000000000002|          1981.4599999999996|                                 0.0|        1.4285714285714286|       7.544833333333333|\n",
      "|         264|2008-12-01 00:00:00|       green|                 0.0|                  0.0|                    0.0|                       0.0|                         0.0|                                  0.0|                         0.0|                                 0.0|                       1.0|                     0.0|\n",
      "|         240|2020-02-01 00:00:00|       green|  2960.2299999999996|               168.25|                   17.0|                      8.42|                      166.43|                    25.50000000000004|           3345.830000000001|                                 0.0|        1.3714285714285714|       8.984042553191488|\n",
      "|         189|2020-02-01 00:00:00|       green|            15421.81|                999.5|                  336.5|        1116.5299999999986|           64.50999999999999|                    264.9000000000043|            18544.0499999999|                              192.25|        1.2527301092043681|       3.276981339187703|\n",
      "|         186|2020-02-01 00:00:00|       green|             1189.18|                105.0|                    4.0|                       0.0|                       72.41|                   10.500000000000004|          1381.0900000000001|                                 0.0|                       1.0|       8.831428571428571|\n",
      "|         160|2020-03-01 00:00:00|       green|  2005.5800000000004|                16.25|                   17.5|                     26.46|           85.67999999999999|                    30.60000000000003|          2206.3199999999997|                                8.25|        1.2162162162162162|       4.635686274509804|\n",
      "|         236|2020-01-01 00:00:00|       green|  13472.720000000001|                755.5|                  443.0|        1573.1299999999974|          397.23000000000025|                   298.50000000000557|          18493.029999999846|                             1702.25|        1.4016203703703705|      3.1214737883283865|\n",
      "|         153|2020-01-01 00:00:00|       green|   4208.179999999999|               217.25|                   63.0|                     52.21|          112.96000000000002|                    54.29999999999984|           4723.850000000009|                                11.0|        1.3364485981308412|       4.772254901960786|\n",
      "|         235|2020-02-01 00:00:00|       green|  25442.410000000105|              2041.25|                  214.0|        61.260000000000005|           722.1600000000004|                   287.70000000000516|          28791.929999999837|                               19.25|        1.1577464788732394|        5.24859464627151|\n",
      "|         239|2020-03-01 00:00:00|       green|              744.97|                  0.0|                    0.5|                       0.0|                        33.4|                    6.599999999999999|                      785.47|                                null|                      null|      10.867272727272727|\n",
      "|         209|2020-03-01 00:00:00|       green|  2723.2799999999997|                  0.0|                    3.0|                       0.0|                       78.53|                    23.10000000000002|          2834.8100000000004|                                 0.0|                       1.0|       9.855194805194804|\n",
      "|         158|2020-02-01 00:00:00|       green|              124.36|                 8.25|                    0.5|                       0.0|                         2.8|                   0.8999999999999999|                      136.81|                                null|                      null|      11.090000000000002|\n",
      "|         260|2020-03-01 00:00:00|       green|            39746.79|              1340.75|                 1640.5|                   3210.93|           234.2400000000001|                    1034.099999999978|          47562.909999999574|                              371.25|        1.4977631971368923|      2.6658366762177663|\n",
      "|         205|2020-01-01 00:00:00|       green|    42175.2200000002|              2547.25|                  223.5|                      24.9|           996.5900000000006|                    383.7000000000088|           46353.11000000004|                                 0.0|        1.1291866028708133|       7.099325284090906|\n",
      "|         101|2020-01-01 00:00:00|       green|   8472.769999999999|                460.5|                   38.0|        15.219999999999999|          232.56000000000012|                    70.49999999999969|           9289.550000000005|                                2.75|        1.0512820512820513|       9.081153846153846|\n",
      "|         232|2020-02-01 00:00:00|       green|   5079.369999999999|               476.75|                   17.0|                       0.0|          184.35000000000005|                   52.799999999999855|           5810.269999999996|                                 0.0|                       1.0|       7.241874999999999|\n",
      "|         122|2020-03-01 00:00:00|       green|   5388.269999999999|                 34.0|                   41.5|                       0.0|          120.99000000000001|                    68.39999999999989|           5674.910000000005|                                 0.0|                     1.275|       48.69600877192986|\n",
      "|         167|2020-01-01 00:00:00|       green|   17975.34000000001|               1192.0|                  188.5|         50.07000000000001|           690.8400000000004|                    234.9000000000032|          20337.149999999914|                                11.0|        1.1871345029239766|      4.4915427927927905|\n",
      "|          77|2020-01-01 00:00:00|       green|  21700.030000000104|               1447.5|                  180.5|                      9.92|           714.1700000000004|                   213.60000000000238|          24274.569999999996|                                 0.0|        1.1180124223602483|       6.017022538552787|\n",
      "+------------+-------------------+------------+--------------------+---------------------+-----------------------+--------------------------+----------------------------+-------------------------------------+----------------------------+------------------------------------+--------------------------+------------------------+\n",
      "only showing top 20 rows\n",
      "\n"
     ]
    }
   ],
   "source": [
    "df_result.show()"
   ]
  },
  {
   "cell_type": "code",
   "execution_count": 25,
   "id": "d1b5efd1",
   "metadata": {},
   "outputs": [],
   "source": [
    "#we decide to write this result and store it for use\n",
    "\n",
    "df_result.coalesce(1).write.parquet('../data/report/revenue/', mode='overwrite')"
   ]
  },
  {
   "cell_type": "code",
   "execution_count": null,
   "id": "981cfe9e",
   "metadata": {},
   "outputs": [],
   "source": []
  }
 ],
 "metadata": {
  "kernelspec": {
   "display_name": "Python 3 (ipykernel)",
   "language": "python",
   "name": "python3"
  },
  "language_info": {
   "codemirror_mode": {
    "name": "ipython",
    "version": 3
   },
   "file_extension": ".py",
   "mimetype": "text/x-python",
   "name": "python",
   "nbconvert_exporter": "python",
   "pygments_lexer": "ipython3",
   "version": "3.9.13"
  }
 },
 "nbformat": 4,
 "nbformat_minor": 5
}
